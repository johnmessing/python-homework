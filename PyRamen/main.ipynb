{
 "cells": [
  {
   "cell_type": "code",
   "execution_count": null,
   "metadata": {},
   "outputs": [],
   "source": [
    "import csv"
   ]
  },
  {
   "cell_type": "code",
   "execution_count": null,
   "metadata": {},
   "outputs": [],
   "source": [
    "# Create file paths across operating systems\n",
    "csv_path = \"Resources/menu_data.csv\""
   ]
  },
  {
   "cell_type": "code",
   "execution_count": null,
   "metadata": {},
   "outputs": [],
   "source": [
    "# Initialize list objects to hold menu and sales data\n",
    "menu = []\n",
    "with open(csv_path, newline='') as csvfile:\n",
    "    csvreader = csv.reader(csvfile, delimiter=',')\n",
    "    csv_header = next(csvreader)\n",
    "    #print(f\"CSV Header: {csv_header}\")\n",
    "    for row in csvreader:\n",
    "        menu.append(row)\n",
    "\n"
   ]
  },
  {
   "cell_type": "code",
   "execution_count": null,
   "metadata": {},
   "outputs": [],
   "source": [
    "# Read in the menu data into the menu list\n",
    "for item in menu:\n",
    "    print(item)"
   ]
  },
  {
   "cell_type": "code",
   "execution_count": null,
   "metadata": {},
   "outputs": [],
   "source": [
    "# Initialize empty sales list and set path for csv file\n",
    "sales = []\n",
    "\n",
    "sales_csv_path = \"Resources/sales_data.csv\""
   ]
  },
  {
   "cell_type": "code",
   "execution_count": null,
   "metadata": {},
   "outputs": [],
   "source": [
    "# Read Sales data File\n",
    "with open(sales_csv_path, newline='') as csvfile:\n",
    "    csvreader = csv.reader(csvfile, delimiter=',')\n",
    "    csv_header = next(csvreader)\n",
    "    #print(f\"CSV Header: {csv_header}\")\n",
    "    for row in csvreader:\n",
    "        sales.append(row)\n",
    "print(sales)"
   ]
  },
  {
   "cell_type": "code",
   "execution_count": null,
   "metadata": {},
   "outputs": [],
   "source": [
    "# Read in the sales data into the sales list\n",
    "report = {} \n"
   ]
  },
  {
   "cell_type": "code",
   "execution_count": null,
   "metadata": {},
   "outputs": [],
   "source": [
    "# Loop to quick check initzialed key value pairs\n",
    "for row in sales:\n",
    "    quantity = item[3] # Number of items sold\n",
    "    sales_item = row[4] # Name of item sold\n",
    "    \n",
    "# Check if the item value not in the report\n",
    "    if sales_item not in report:\n",
    "        \n",
    "        report[sales_item] = {\"01-count\": 0,\"02-revenue\": 0,\"03-cogs\": 0,\"04-profit\": 0}\n",
    "            \n",
    "print(list(report))"
   ]
  },
  {
   "cell_type": "code",
   "execution_count": null,
   "metadata": {},
   "outputs": [],
   "source": [
    "for row in sales:\n",
    "    print(row[3])"
   ]
  },
  {
   "cell_type": "code",
   "execution_count": null,
   "metadata": {},
   "outputs": [],
   "source": [
    "# Loop through every record in menu\n",
    "for row in sales:\n",
    "        sales_item = row[4]\n",
    "        quantity = float(row[3])\n",
    "\n",
    "        for row in menu:\n",
    "        # Set Item, Price, and Cost from menu data\n",
    "                item = row[0]\n",
    "                \n",
    "\n",
    "        # If sales_item in sales matches item in menu, calculate profit\n",
    "                if sales_item == item:\n",
    "                        price = float(row[3])\n",
    "                        cost = float(row[4])\n",
    "                        profit = price - cost # Calculate profit \n",
    "                        # Add values to the corresponding metrics in the report\n",
    "                        report[sales_item][\"01-count\"] = quantity\n",
    "                        report[sales_item][\"02-revenue\"] += price * quantity\n",
    "                        report[sales_item][\"03-cogs\"] += cost * quantity\n",
    "                        report[sales_item][\"04-profit\"] += profit * quantity\n",
    "                        break\n",
    "                else:   \n",
    "                        print(f\"{sales_item} does not equal {item}! NO MATCH!\")\n",
    "                         \n",
    "        "
   ]
  },
  {
   "cell_type": "code",
   "execution_count": null,
   "metadata": {},
   "outputs": [],
   "source": [
    "# Print report dictionary for each item \n",
    "for item, metrics in report.items():\n",
    "    print(f\"{item} {metrics}\") "
   ]
  },
  {
   "cell_type": "code",
   "execution_count": null,
   "metadata": {},
   "outputs": [],
   "source": [
    "# Write out report to a text file \n",
    "with open(\"report.txt\", \"w\") as file:\n",
    "    for item, metrics in report.items():\n",
    "        file.write(f\"{item} {metrics}\\n\")"
   ]
  },
  {
   "cell_type": "code",
   "execution_count": null,
   "metadata": {},
   "outputs": [],
   "source": [
    "import csv"
   ]
  },
  {
   "cell_type": "code",
   "execution_count": null,
   "metadata": {},
   "outputs": [],
   "source": [
    "# Create file paths across operating systems\n",
    "csv_path = \"Resources/menu_data.csv\""
   ]
  },
  {
   "cell_type": "code",
   "execution_count": null,
   "metadata": {},
   "outputs": [],
   "source": [
    "# Initialize list objects to hold menu and sales data\n",
    "menu = []\n",
    "with open(csv_path, newline='') as csvfile:\n",
    "    csvreader = csv.reader(csvfile, delimiter=',')\n",
    "    csv_header = next(csvreader)\n",
    "    #print(f\"CSV Header: {csv_header}\")\n",
    "    for row in csvreader:\n",
    "        menu.append(row)\n",
    "     "
   ]
  },
  {
   "cell_type": "code",
   "execution_count": null,
   "metadata": {},
   "outputs": [],
   "source": [
    "# Read in the menu data into the menu list\n",
    "for item in menu:\n",
    "    print(item)"
   ]
  },
  {
   "cell_type": "code",
   "execution_count": null,
   "metadata": {},
   "outputs": [],
   "source": [
    "sales = []\n",
    "\n",
    "sales_csv_path = \"Resources/sales_data.csv\""
   ]
  },
  {
   "cell_type": "code",
   "execution_count": null,
   "metadata": {},
   "outputs": [],
   "source": [
    "# Read Sales data File\n",
    "with open(sales_csv_path, newline='') as csvfile:\n",
    "    csvreader = csv.reader(csvfile, delimiter=',')\n",
    "    csv_header = next(csvreader)\n",
    "    #print(f\"CSV Header: {csv_header}\")\n",
    "    for row in csvreader:\n",
    "        sales.append(row)\n",
    "print(sales)"
   ]
  },
  {
   "cell_type": "code",
   "execution_count": null,
   "metadata": {},
   "outputs": [],
   "source": [
    "report = {}"
   ]
  },
  {
   "cell_type": "code",
   "execution_count": null,
   "metadata": {},
   "outputs": [],
   "source": [
    "# Loop to quick check initzialed key value pairs\n",
    "for row in sales:\n",
    "    quantity = item[3] # Number of items sold\n",
    "    sales_item = row[4] # Name of item sold\n",
    "\n",
    "# Check if the item value not in the report\n",
    "    if sales_item not in report:\n",
    "\n",
    "        report[sales_item] = {\"01-count\": 0,\"02-revenue\": 0,\"03-cogs\": 0,\"04-profit\": 0}   \n",
    "\n",
    "print(list(report))"
   ]
  },
  {
   "cell_type": "code",
   "execution_count": null,
   "metadata": {},
   "outputs": [],
   "source": [
    "# Loop through every record in menu\n",
    "for row in sales:\n",
    "    sales_item = row[4]\n",
    "    quantity = float(row[3])\n",
    "\n",
    "    for row in menu:\n",
    "    # Set Item, Price, and Cost from menu data\n",
    "        item = row[0]\n",
    "\n",
    "    \n",
    "    # If sales_item in sales matches item in menu, calculate profit\n",
    "        if sales_item == item:\n",
    "            price = float(row[3])\n",
    "            cost = float(row[4])\n",
    "            profit = price - cost # Calculate profit   \n",
    "            # Add values to the corresponding metrics in the report\n",
    "            report[sales_item][\"01-count\"] = quantity\n",
    "            report[sales_item][\"02-revenue\"] += price * quantity    \n",
    "            report[sales_item][\"03-cogs\"] += cost * quantity\n",
    "            report[sales_item][\"04-profit\"] += profit * quantity\n",
    "            break\n",
    "        else:\n",
    "            print(f\"{sales_item} does not equal {item}! NO MATCH!\")"
   ]
  },
  {
   "cell_type": "code",
   "execution_count": null,
   "metadata": {},
   "outputs": [],
   "source": [
    "# Print report dictionary for each item\n",
    "for item, metrics in report.items():\n",
    "    print(f\"{item} {metrics}\")"
   ]
  },
  {
   "cell_type": "code",
   "execution_count": null,
   "metadata": {},
   "outputs": [],
   "source": [
    "# Write out report to a text file\n",
    "with open(\"report.txt\", \"w\") as file:\n",
    "    for item, metrics in report.items():\n",
    "        file.write(f\"{item} {metrics}\\n\")"
   ]
  },
  {
   "cell_type": "code",
   "execution_count": null,
   "metadata": {},
   "outputs": [],
   "source": []
  }
 ],
 "metadata": {
  "kernelspec": {
   "display_name": "dev",
   "language": "python",
   "name": "python3"
  },
  "language_info": {
   "codemirror_mode": {
    "name": "ipython",
    "version": 3
   },
   "file_extension": ".py",
   "mimetype": "text/x-python",
   "name": "python",
   "nbconvert_exporter": "python",
   "pygments_lexer": "ipython3",
   "version": "3.10.12"
  },
  "orig_nbformat": 4
 },
 "nbformat": 4,
 "nbformat_minor": 2
}
